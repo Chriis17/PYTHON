{
  "cells": [
    {
      "cell_type": "code",
      "execution_count": 4,
      "metadata": {
        "colab": {
          "base_uri": "https://localhost:8080/"
        },
        "id": "fZ9U6GUbmo1E",
        "outputId": "d67f0d0b-8dca-4fa2-d197-531fc00dc45b"
      },
      "outputs": [
        {
          "name": "stdout",
          "output_type": "stream",
          "text": [
            "0 2 3 4 5 6 7 8 9 10  \n",
            "2 0 6 8 10 12 14 16 18 20  \n",
            "3 6 0 12 15 18 21 24 27 30  \n",
            "4 8 12 0 20 24 28 32 36 40  \n",
            "5 10 15 20 0 30 35 40 45 50  \n",
            "6 12 18 24 30 0 42 48 54 60  \n",
            "7 14 21 28 35 42 0 56 63 70  \n",
            "8 16 24 32 40 48 56 0 72 80  \n",
            "9 18 27 36 45 54 63 72 0 90  \n",
            "10 20 30 40 50 60 70 80 90 0  \n"
          ]
        }
      ],
      "source": [
        "num=1\n",
        "cont=1\n",
        "while(num<=10):\n",
        "  while(cont<=10):\n",
        "    tab=cont*num\n",
        "    if(cont==num):\n",
        "      print(\"0\",end=\" \")\n",
        "    else:\n",
        "      print(tab,end=\" \")\n",
        "    cont+=1\n",
        "  cont=1\n",
        "  print(\" \")\n",
        "  num+=1"
      ]
    },
    {
      "cell_type": "code",
      "execution_count": 6,
      "metadata": {
        "id": "C2OSApG7pEut"
      },
      "outputs": [
        {
          "name": "stdout",
          "output_type": "stream",
          "text": [
            "Il nominativo è dassisti\n",
            "Il suo premio assicurativo ammonta a 225.0 con la quota fissa di 200 euro e la quota variabile di 25.0 euro\n",
            "Il nominativo è marchesini\n",
            "Il suo premio assicurativo ammonta a 290.0 con la quota fissa di 250 euro e la quota variabile di 40.0 euro\n",
            "Il totale dei premi delle autovetture è 290.0\n",
            "Il totale dei premi dei motocicli è 225.0\n",
            "Il totale dei premi degli automezzi è 0\n"
          ]
        }
      ],
      "source": [
        "tpremioAutMezz=0\n",
        "tpremioAut=0\n",
        "tpremioMoto=0\n",
        "tMezzo=\" \"\n",
        "importo=-1\n",
        "while(importo!=0):\n",
        "  while(importo<0):\n",
        "    importo=int(input(\"Inserire l'importo da assicurare(inserire 0 per terminare)\"))\n",
        "  if(importo!=0):\n",
        "    nominativo=input(\"Inserire il nominativo dell'assicurato: \")\n",
        "    while(tMezzo!=\"autovettura\" and tMezzo!=\"motociclo\" and tMezzo!=\"automezzo\"):\n",
        "      tMezzo=input(\"Inserire il tipo di vettura(autovettura, motociclo o automezzo)\")\n",
        "      tMezzo1=tMezzo\n",
        "    if(importo<10000):\n",
        "      if(tMezzo==\"autovettura\"):\n",
        "        Q=250\n",
        "        Q1=importo*0.02\n",
        "      elif(tMezzo==\"motociclo\"):\n",
        "        Q=200\n",
        "        Q1=importo*0.025\n",
        "      else:\n",
        "        Q=300\n",
        "        Q1=importo*0.03\n",
        "    else:\n",
        "      if(tMezzo==\"autovettura\"):\n",
        "        Q=250\n",
        "        Q1=importo*0.03\n",
        "      elif(tMezzo==\"motociclo\"):\n",
        "        Q=200\n",
        "        Q1=importo*0.035\n",
        "      else:\n",
        "        Q=300\n",
        "        Q1=importo*0.04\n",
        "    importo=-1\n",
        "    tMezzo=\" \"\n",
        "  premio=Q+Q1\n",
        "  if(importo!=0):\n",
        "    print(\"Il nominativo è \"+str(nominativo))\n",
        "    print(\"Il suo premio assicurativo ammonta a \"+str(premio)+\" con la quota fissa di \"+str(Q)+\" euro e la quota variabile di \"+str(Q1)+\" euro\")\n",
        "    if(tMezzo1==\"autovettura\"):\n",
        "      tpremioAut+=premio\n",
        "    elif(tMezzo1==\"motociclo\"):\n",
        "      tpremioMoto+=premio\n",
        "    else:\n",
        "      tpremioAutMezz+=premio\n",
        "print(\"Il totale dei premi delle autovetture è \"+str(tpremioAut)+\" con una percentuale del \"+str((tpremioAut/tpremioAut+tpremioMoto+tpremioAutMezz)*100))\n",
        "print(\"Il totale dei premi dei motocicli è \"+str(tpremioMoto)+\" con una percentuale del \"+str((tpremioMoto/tpremioAut+tpremioMoto+tpremioAutMezz)*100))\n",
        "print(\"Il totale dei premi degli automezzi è \"+str(tpremioAutMezz)+\" con una percentuale del \"+str((tpremioAutMezz/tpremioAut+tpremioMoto+tpremioAutMezz)*100))\n",
        "print(\"Il premio medio complessivo è \"+str())"
      ]
    }
  ],
  "metadata": {
    "colab": {
      "provenance": []
    },
    "kernelspec": {
      "display_name": "Python 3",
      "name": "python3"
    },
    "language_info": {
      "codemirror_mode": {
        "name": "ipython",
        "version": 3
      },
      "file_extension": ".py",
      "mimetype": "text/x-python",
      "name": "python",
      "nbconvert_exporter": "python",
      "pygments_lexer": "ipython3",
      "version": "3.10.3"
    }
  },
  "nbformat": 4,
  "nbformat_minor": 0
}
